{
 "cells": [
  {
   "cell_type": "code",
   "execution_count": null,
   "id": "495c0353",
   "metadata": {
    "ExecuteTime": {
     "end_time": "2025-07-24T09:12:38.727020Z",
     "start_time": "2025-07-24T09:12:38.324226Z"
    }
   },
   "outputs": [],
   "source": [
    "import pandas as pd\n",
    "import matplotlib.pyplot as plt\n",
    "import seaborn as sns\n",
    "from sklearn.preprocessing import MinMaxScaler"
   ]
  },
  {
   "cell_type": "code",
   "execution_count": null,
   "id": "21c1fc23",
   "metadata": {},
   "outputs": [],
   "source": [
    "df = pd.read_csv('Startup_Scoring_Dataset.csv')\n",
    "df.head()"
   ]
  },
  {
   "cell_type": "code",
   "execution_count": null,
   "id": "eaaa3500",
   "metadata": {},
   "outputs": [],
   "source": [
    "positive_cols = ['team_experience', 'market_size_million_usd', 'monthly_active_users',\n",
    "                 'funds_raised_inr', 'valuation_inr']\n",
    "negative_cols = ['monthly_burn_rate_inr']\n",
    "scaler = MinMaxScaler()\n",
    "df[positive_cols] = scaler.fit_transform(df[positive_cols])\n",
    "df[negative_cols] = 1 - scaler.fit_transform(df[negative_cols])"
   ]
  },
  {
   "cell_type": "code",
   "execution_count": null,
   "id": "1bacdf1e",
   "metadata": {},
   "outputs": [],
   "source": [
    "weights = {\n",
    "    'team_experience': 0.15,\n",
    "    'market_size_million_usd': 0.2,\n",
    "    'monthly_active_users': 0.25,\n",
    "    'monthly_burn_rate_inr': 0.1,\n",
    "    'funds_raised_inr': 0.15,\n",
    "    'valuation_inr': 0.15\n",
    "}\n",
    "df['score'] = sum(df[col] * weight for col, weight in weights.items()) * 100\n",
    "df['rank'] = df['score'].rank(ascending=False).astype(int)\n",
    "df_sorted = df.sort_values(by='score', ascending=False)\n",
    "df_sorted[['startup_id', 'score', 'rank']].head()"
   ]
  },
  {
   "cell_type": "code",
   "execution_count": null,
   "id": "b38f299f",
   "metadata": {},
   "outputs": [],
   "source": [
    "plt.figure(figsize=(16, 5))\n",
    "sns.barplot(x='startup_id', y='score', data=df_sorted, palette='coolwarm')\n",
    "plt.xticks(rotation=90)\n",
    "plt.title('Startup Scores (Sorted Highest to Lowest)')\n",
    "plt.xlabel('Startup ID')\n",
    "plt.ylabel('Score out of 100')\n",
    "plt.tight_layout()\n",
    "plt.show()"
   ]
  },
  {
   "cell_type": "code",
   "execution_count": null,
   "id": "2778621c",
   "metadata": {},
   "outputs": [],
   "source": [
    "original_df = pd.read_csv('Startup_Scoring_Dataset.csv')\n",
    "plt.figure(figsize=(10, 6))\n",
    "sns.heatmap(original_df.corr(), annot=True, cmap='YlGnBu', fmt='.2f')\n",
    "plt.title('Feature Correlation Heatmap')\n",
    "plt.tight_layout()\n",
    "plt.show()"
   ]
  },
  {
   "cell_type": "code",
   "execution_count": null,
   "id": "0499a81c",
   "metadata": {},
   "outputs": [],
   "source": [
    "df_sorted.to_csv('Startup_Health_Scores_Final.csv', index=False)"
   ]
  }
 ],
 "metadata": {
  "language_info": {
   "name": "python"
  }
 },
 "nbformat": 4,
 "nbformat_minor": 5
}
